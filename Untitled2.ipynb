{
 "cells": [
  {
   "cell_type": "code",
   "execution_count": 1,
   "metadata": {},
   "outputs": [],
   "source": [
    "import pandas as pd \n",
    "import numpy as np\n",
    "from sklearn import datasets, linear_model, metrics\n"
   ]
  },
  {
   "cell_type": "code",
   "execution_count": 30,
   "metadata": {},
   "outputs": [
    {
     "name": "stdout",
     "output_type": "stream",
     "text": [
      "[0.95391062 0.95219372 0.55041565 0.92330746 0.98687394 0.7786154\n",
      " 0.02882205 0.95317924 0.97706692 0.1839172  0.2310728 ]\n",
      "Epoch 0: 14690.437040\n",
      "Epoch 500: 2755.170055\n",
      "Epoch 1000: 2584.571295\n",
      "Epoch 1500: 2456.889880\n",
      "Epoch 2000: 2365.190588\n",
      "Epoch 2500: 2298.808517\n",
      "Epoch 3000: 2250.184540\n",
      "Epoch 3500: 2213.992102\n",
      "Epoch 4000: 2186.484075\n",
      "Epoch 4500: 2165.029478\n"
     ]
    },
    {
     "data": {
      "text/plain": [
       "[<matplotlib.lines.Line2D at 0x26f0e863348>]"
      ]
     },
     "execution_count": 30,
     "metadata": {},
     "output_type": "execute_result"
    },
    {
     "data": {
      "image/png": "[encoded data removed]",
      "text/plain": [
       "<Figure size 432x288 with 1 Axes>"
      ]
     },
     "metadata": {
      "needs_background": "light"
     },
     "output_type": "display_data"
    }
   ],
   "source": [
    "## Load the diabetes dataset\n",
    "diabetes = datasets.load_diabetes()\n",
    "diabetes_X = diabetes.data # matrix of dimensions 442x10\n",
    "p=diabetes.feature_names\n",
    "# Split the data into training/testing sets\n",
    "diabetes_X_train = diabetes_X[:-20]\n",
    "diabetes_X_test = diabetes_X[-20:]\n",
    " \n",
    "# Split the targets into training/testing sets\n",
    "diabetes_y_train = diabetes.target[:-20]\n",
    "diabetes_y_test = diabetes.target[-20:]\n",
    "\n",
    "\n",
    "diabetes = datasets.load_diabetes()\n",
    "diabetes_X = diabetes.data \n",
    "\n",
    "\n",
    "X = diabetes_X_train\n",
    "y = diabetes_y_train\n",
    "\n",
    "import matplotlib.pyplot as plt\n",
    "\n",
    "X = diabetes_X_train\n",
    "y = diabetes_y_train\n",
    "mean=np.mean(y)\n",
    "l=len(y)\n",
    "\n",
    "\n",
    "W =  np.random.rand(11)\n",
    "\n",
    "d = np.ones((422,1))\n",
    "X = np.hstack((X,d))\n",
    "print(W) \n",
    "learning_rate = 0.01\n",
    "epochs = 5000\n",
    "l1=[]\n",
    "l2=[]\n",
    "\n",
    "for i in range(epochs):\n",
    "    h=0\n",
    "    err=0\n",
    "    sq_err=0\n",
    "    mean_sq_err=0\n",
    "\n",
    "    \n",
    "    l=len(y)\n",
    "  \n",
    "    for p in range(l):\n",
    "        h=(np.dot(W,X[p]))\n",
    "        err=h-y[p]\n",
    "        sq_err=sq_err+(err**2)\n",
    "    \n",
    "    mean_sq_err=sq_err/844\n",
    "    \n",
    "    h=0\n",
    "    grad=0\n",
    "    for K in range(11):\n",
    "        h=0    \n",
    "        for j in range(422):\n",
    "            h=((np.dot(W,X[j]))-y[j])*X[j][K]\n",
    "            grad=grad+h\n",
    "        \n",
    "        W[K]=W[K]-learning_rate*(grad)/422\n",
    "    \n",
    "    \n",
    "  \n",
    "    l1.append(i)\n",
    "    l2.append(mean_sq_err)\n",
    "    \n",
    "    if i % 500 == 0: \n",
    "        print(\"Epoch %d: %f\" % (i, mean_sq_err))\n",
    "plt.plot(l1,l2) "
   ]
  },
  {
   "cell_type": "code",
   "execution_count": 31,
   "metadata": {},
   "outputs": [
    {
     "name": "stdout",
     "output_type": "stream",
     "text": [
      "test\n",
      "Mean squared error: 2249.95\n",
      "Coefficients: \n",
      " [ 15.47936752  10.71004448  87.76303994 139.12550931 138.32779681\n",
      " 134.33732441  78.70177132 121.84066739 185.56111752 218.58896707\n",
      " 154.96097976]\n"
     ]
    }
   ],
   "source": [
    "print('test')\n",
    "X3 = diabetes_X_test\n",
    "y3 = diabetes_y_test\n",
    "\n",
    "d = np.ones((20,1))\n",
    "X3 = np.hstack((X3,d))\n",
    "mean_sq_err=0\n",
    "err=0\n",
    "\n",
    "for p in range(20):\n",
    "        h=(np.dot(W,X3[p]))\n",
    "        err=h-y3[p]\n",
    "        sq_err=sq_err+(err**2)\n",
    "    \n",
    "mean_sq_err=sq_err/844\n",
    "\n",
    "print(\"Mean squared error: %.2f\" % mean_sq_err)\n",
    "print('Coefficients: \\n', W)"
   ]
  },
  {
   "cell_type": "code",
   "execution_count": null,
   "metadata": {},
   "outputs": [],
   "source": []
  },
  {
   "cell_type": "code",
   "execution_count": null,
   "metadata": {},
   "outputs": [],
   "source": []
  },
  {
   "cell_type": "code",
   "execution_count": null,
   "metadata": {},
   "outputs": [],
   "source": []
  }
 ],
 "metadata": {
  "kernelspec": {
   "display_name": "Python 3",
   "language": "python",
   "name": "python3"
  },
  "language_info": {
   "codemirror_mode": {
    "name": "ipython",
    "version": 3
   },
   "file_extension": ".py",
   "mimetype": "text/x-python",
   "name": "python",
   "nbconvert_exporter": "python",
   "pygments_lexer": "ipython3",
   "version": "3.7.4"
  }
 },
 "nbformat": 4,
 "nbformat_minor": 2
}
